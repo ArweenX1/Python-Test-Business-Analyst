{
 "cells": [
  {
   "cell_type": "code",
   "execution_count": 1,
   "metadata": {},
   "outputs": [],
   "source": [
    "import numpy as np \n",
    "import pandas as pd \n",
    "import matplotlib.pyplot as plt"
   ]
  },
  {
   "cell_type": "code",
   "execution_count": 2,
   "metadata": {},
   "outputs": [],
   "source": [
    "data1 = pd.read_csv('Test_data1.csv')"
   ]
  },
  {
   "cell_type": "code",
   "execution_count": 3,
   "metadata": {},
   "outputs": [],
   "source": [
    "data2 = pd.read_csv('Test_data2.txt')"
   ]
  },
  {
   "cell_type": "code",
   "execution_count": 4,
   "metadata": {},
   "outputs": [
    {
     "data": {
      "text/html": [
       "<div>\n",
       "<style scoped>\n",
       "    .dataframe tbody tr th:only-of-type {\n",
       "        vertical-align: middle;\n",
       "    }\n",
       "\n",
       "    .dataframe tbody tr th {\n",
       "        vertical-align: top;\n",
       "    }\n",
       "\n",
       "    .dataframe thead th {\n",
       "        text-align: right;\n",
       "    }\n",
       "</style>\n",
       "<table border=\"1\" class=\"dataframe\">\n",
       "  <thead>\n",
       "    <tr style=\"text-align: right;\">\n",
       "      <th></th>\n",
       "      <th>Unnamed: 0</th>\n",
       "      <th>Unnamed: 0.1</th>\n",
       "      <th>date</th>\n",
       "      <th>Sales</th>\n",
       "    </tr>\n",
       "  </thead>\n",
       "  <tbody>\n",
       "    <tr>\n",
       "      <th>0</th>\n",
       "      <td>0</td>\n",
       "      <td>0</td>\n",
       "      <td>10/1/2012</td>\n",
       "      <td>Yellow</td>\n",
       "    </tr>\n",
       "    <tr>\n",
       "      <th>1</th>\n",
       "      <td>1</td>\n",
       "      <td>1</td>\n",
       "      <td>10/2/2012</td>\n",
       "      <td>Yellow</td>\n",
       "    </tr>\n",
       "    <tr>\n",
       "      <th>2</th>\n",
       "      <td>2</td>\n",
       "      <td>2</td>\n",
       "      <td>10/3/2012</td>\n",
       "      <td>Red</td>\n",
       "    </tr>\n",
       "    <tr>\n",
       "      <th>3</th>\n",
       "      <td>3</td>\n",
       "      <td>3</td>\n",
       "      <td>10/4/2012</td>\n",
       "      <td>Green</td>\n",
       "    </tr>\n",
       "    <tr>\n",
       "      <th>4</th>\n",
       "      <td>4</td>\n",
       "      <td>4</td>\n",
       "      <td>10/5/2012</td>\n",
       "      <td>Yellow</td>\n",
       "    </tr>\n",
       "    <tr>\n",
       "      <th>...</th>\n",
       "      <td>...</td>\n",
       "      <td>...</td>\n",
       "      <td>...</td>\n",
       "      <td>...</td>\n",
       "    </tr>\n",
       "    <tr>\n",
       "      <th>494</th>\n",
       "      <td>494</td>\n",
       "      <td>494</td>\n",
       "      <td>2/7/2014</td>\n",
       "      <td>Yellow</td>\n",
       "    </tr>\n",
       "    <tr>\n",
       "      <th>495</th>\n",
       "      <td>495</td>\n",
       "      <td>495</td>\n",
       "      <td>2/8/2014</td>\n",
       "      <td>Green</td>\n",
       "    </tr>\n",
       "    <tr>\n",
       "      <th>496</th>\n",
       "      <td>496</td>\n",
       "      <td>496</td>\n",
       "      <td>2/9/2014</td>\n",
       "      <td>Yellow</td>\n",
       "    </tr>\n",
       "    <tr>\n",
       "      <th>497</th>\n",
       "      <td>497</td>\n",
       "      <td>497</td>\n",
       "      <td>2/10/2014</td>\n",
       "      <td>Yellow</td>\n",
       "    </tr>\n",
       "    <tr>\n",
       "      <th>498</th>\n",
       "      <td>498</td>\n",
       "      <td>498</td>\n",
       "      <td>2/11/2014</td>\n",
       "      <td>Red</td>\n",
       "    </tr>\n",
       "  </tbody>\n",
       "</table>\n",
       "<p>499 rows × 4 columns</p>\n",
       "</div>"
      ],
      "text/plain": [
       "     Unnamed: 0  Unnamed: 0.1       date   Sales\n",
       "0             0             0  10/1/2012  Yellow\n",
       "1             1             1  10/2/2012  Yellow\n",
       "2             2             2  10/3/2012     Red\n",
       "3             3             3  10/4/2012   Green\n",
       "4             4             4  10/5/2012  Yellow\n",
       "..          ...           ...        ...     ...\n",
       "494         494           494   2/7/2014  Yellow\n",
       "495         495           495   2/8/2014   Green\n",
       "496         496           496   2/9/2014  Yellow\n",
       "497         497           497  2/10/2014  Yellow\n",
       "498         498           498  2/11/2014     Red\n",
       "\n",
       "[499 rows x 4 columns]"
      ]
     },
     "execution_count": 4,
     "metadata": {},
     "output_type": "execute_result"
    }
   ],
   "source": [
    "data1"
   ]
  },
  {
   "cell_type": "code",
   "execution_count": 5,
   "metadata": {},
   "outputs": [
    {
     "data": {
      "text/html": [
       "<div>\n",
       "<style scoped>\n",
       "    .dataframe tbody tr th:only-of-type {\n",
       "        vertical-align: middle;\n",
       "    }\n",
       "\n",
       "    .dataframe tbody tr th {\n",
       "        vertical-align: top;\n",
       "    }\n",
       "\n",
       "    .dataframe thead th {\n",
       "        text-align: right;\n",
       "    }\n",
       "</style>\n",
       "<table border=\"1\" class=\"dataframe\">\n",
       "  <thead>\n",
       "    <tr style=\"text-align: right;\">\n",
       "      <th></th>\n",
       "      <th>|date|Revenue</th>\n",
       "    </tr>\n",
       "  </thead>\n",
       "  <tbody>\n",
       "    <tr>\n",
       "      <th>0</th>\n",
       "      <td>0|2012-10-01|2.9765444602038786</td>\n",
       "    </tr>\n",
       "    <tr>\n",
       "      <th>1</th>\n",
       "      <td>0|2012-10-01|2.9765444602038786</td>\n",
       "    </tr>\n",
       "    <tr>\n",
       "      <th>2</th>\n",
       "      <td>1|2012-10-02|2.490528631540708</td>\n",
       "    </tr>\n",
       "    <tr>\n",
       "      <th>3</th>\n",
       "      <td>2|2012-10-03|-4.064460105354397</td>\n",
       "    </tr>\n",
       "    <tr>\n",
       "      <th>4</th>\n",
       "      <td>3|2012-10-04|19.713553974145924</td>\n",
       "    </tr>\n",
       "    <tr>\n",
       "      <th>...</th>\n",
       "      <td>...</td>\n",
       "    </tr>\n",
       "    <tr>\n",
       "      <th>496</th>\n",
       "      <td>495|2014-02-08|21.04600124709907</td>\n",
       "    </tr>\n",
       "    <tr>\n",
       "      <th>497</th>\n",
       "      <td>496|2014-02-09|1.1231042207516877</td>\n",
       "    </tr>\n",
       "    <tr>\n",
       "      <th>498</th>\n",
       "      <td>497|2014-02-10|2.653838663706322</td>\n",
       "    </tr>\n",
       "    <tr>\n",
       "      <th>499</th>\n",
       "      <td>498|2014-02-11|-6.5977862399510165</td>\n",
       "    </tr>\n",
       "    <tr>\n",
       "      <th>500</th>\n",
       "      <td>499|2014-02-12|-5.4258098121947365</td>\n",
       "    </tr>\n",
       "  </tbody>\n",
       "</table>\n",
       "<p>501 rows × 1 columns</p>\n",
       "</div>"
      ],
      "text/plain": [
       "                          |date|Revenue\n",
       "0       0|2012-10-01|2.9765444602038786\n",
       "1       0|2012-10-01|2.9765444602038786\n",
       "2        1|2012-10-02|2.490528631540708\n",
       "3       2|2012-10-03|-4.064460105354397\n",
       "4       3|2012-10-04|19.713553974145924\n",
       "..                                  ...\n",
       "496    495|2014-02-08|21.04600124709907\n",
       "497   496|2014-02-09|1.1231042207516877\n",
       "498    497|2014-02-10|2.653838663706322\n",
       "499  498|2014-02-11|-6.5977862399510165\n",
       "500  499|2014-02-12|-5.4258098121947365\n",
       "\n",
       "[501 rows x 1 columns]"
      ]
     },
     "execution_count": 5,
     "metadata": {},
     "output_type": "execute_result"
    }
   ],
   "source": [
    "data2"
   ]
  },
  {
   "cell_type": "code",
   "execution_count": 6,
   "metadata": {},
   "outputs": [
    {
     "data": {
      "text/html": [
       "<div>\n",
       "<style scoped>\n",
       "    .dataframe tbody tr th:only-of-type {\n",
       "        vertical-align: middle;\n",
       "    }\n",
       "\n",
       "    .dataframe tbody tr th {\n",
       "        vertical-align: top;\n",
       "    }\n",
       "\n",
       "    .dataframe thead th {\n",
       "        text-align: right;\n",
       "    }\n",
       "</style>\n",
       "<table border=\"1\" class=\"dataframe\">\n",
       "  <thead>\n",
       "    <tr style=\"text-align: right;\">\n",
       "      <th></th>\n",
       "      <th>Unnamed: 0</th>\n",
       "      <th>date</th>\n",
       "      <th>Revenue</th>\n",
       "    </tr>\n",
       "  </thead>\n",
       "  <tbody>\n",
       "    <tr>\n",
       "      <th>0</th>\n",
       "      <td>0</td>\n",
       "      <td>2012-10-01</td>\n",
       "      <td>2.9765444602038786</td>\n",
       "    </tr>\n",
       "    <tr>\n",
       "      <th>1</th>\n",
       "      <td>0</td>\n",
       "      <td>2012-10-01</td>\n",
       "      <td>2.9765444602038786</td>\n",
       "    </tr>\n",
       "    <tr>\n",
       "      <th>2</th>\n",
       "      <td>1</td>\n",
       "      <td>2012-10-02</td>\n",
       "      <td>2.490528631540708</td>\n",
       "    </tr>\n",
       "    <tr>\n",
       "      <th>3</th>\n",
       "      <td>2</td>\n",
       "      <td>2012-10-03</td>\n",
       "      <td>-4.064460105354397</td>\n",
       "    </tr>\n",
       "    <tr>\n",
       "      <th>4</th>\n",
       "      <td>3</td>\n",
       "      <td>2012-10-04</td>\n",
       "      <td>19.713553974145924</td>\n",
       "    </tr>\n",
       "    <tr>\n",
       "      <th>...</th>\n",
       "      <td>...</td>\n",
       "      <td>...</td>\n",
       "      <td>...</td>\n",
       "    </tr>\n",
       "    <tr>\n",
       "      <th>496</th>\n",
       "      <td>495</td>\n",
       "      <td>2014-02-08</td>\n",
       "      <td>21.04600124709907</td>\n",
       "    </tr>\n",
       "    <tr>\n",
       "      <th>497</th>\n",
       "      <td>496</td>\n",
       "      <td>2014-02-09</td>\n",
       "      <td>1.1231042207516877</td>\n",
       "    </tr>\n",
       "    <tr>\n",
       "      <th>498</th>\n",
       "      <td>497</td>\n",
       "      <td>2014-02-10</td>\n",
       "      <td>2.653838663706322</td>\n",
       "    </tr>\n",
       "    <tr>\n",
       "      <th>499</th>\n",
       "      <td>498</td>\n",
       "      <td>2014-02-11</td>\n",
       "      <td>-6.5977862399510165</td>\n",
       "    </tr>\n",
       "    <tr>\n",
       "      <th>500</th>\n",
       "      <td>499</td>\n",
       "      <td>2014-02-12</td>\n",
       "      <td>-5.4258098121947365</td>\n",
       "    </tr>\n",
       "  </tbody>\n",
       "</table>\n",
       "<p>501 rows × 3 columns</p>\n",
       "</div>"
      ],
      "text/plain": [
       "     Unnamed: 0        date              Revenue\n",
       "0             0  2012-10-01   2.9765444602038786\n",
       "1             0  2012-10-01   2.9765444602038786\n",
       "2             1  2012-10-02    2.490528631540708\n",
       "3             2  2012-10-03   -4.064460105354397\n",
       "4             3  2012-10-04   19.713553974145924\n",
       "..          ...         ...                  ...\n",
       "496         495  2014-02-08    21.04600124709907\n",
       "497         496  2014-02-09   1.1231042207516877\n",
       "498         497  2014-02-10    2.653838663706322\n",
       "499         498  2014-02-11  -6.5977862399510165\n",
       "500         499  2014-02-12  -5.4258098121947365\n",
       "\n",
       "[501 rows x 3 columns]"
      ]
     },
     "execution_count": 6,
     "metadata": {},
     "output_type": "execute_result"
    }
   ],
   "source": [
    "data2 = pd.read_csv('Test_data2.txt', sep='|')\n",
    "data2"
   ]
  },
  {
   "cell_type": "code",
   "execution_count": 7,
   "metadata": {},
   "outputs": [],
   "source": [
    "df1=data1\n",
    "df2=data2"
   ]
  },
  {
   "cell_type": "code",
   "execution_count": 8,
   "metadata": {},
   "outputs": [
    {
     "data": {
      "text/plain": [
       "Index(['Unnamed: 0', 'Unnamed: 0.1', 'date', 'Sales'], dtype='object')"
      ]
     },
     "execution_count": 8,
     "metadata": {},
     "output_type": "execute_result"
    }
   ],
   "source": [
    "df1.columns "
   ]
  },
  {
   "cell_type": "code",
   "execution_count": 9,
   "metadata": {},
   "outputs": [
    {
     "data": {
      "text/plain": [
       "Index(['Unnamed: 0', 'date', 'Revenue'], dtype='object')"
      ]
     },
     "execution_count": 9,
     "metadata": {},
     "output_type": "execute_result"
    }
   ],
   "source": [
    "df2.columns "
   ]
  },
  {
   "cell_type": "code",
   "execution_count": 10,
   "metadata": {},
   "outputs": [],
   "source": [
    "columns_to_delete = ['Unnamed: 0','Unnamed: 0.1']\n",
    "df1.drop(columns_to_delete, inplace=True, axis=1)"
   ]
  },
  {
   "cell_type": "code",
   "execution_count": 11,
   "metadata": {},
   "outputs": [],
   "source": [
    "columns_to_delete = ['Unnamed: 0']\n",
    "df2.drop(columns_to_delete, inplace=True, axis=1)"
   ]
  },
  {
   "cell_type": "code",
   "execution_count": 12,
   "metadata": {},
   "outputs": [
    {
     "data": {
      "text/html": [
       "<div>\n",
       "<style scoped>\n",
       "    .dataframe tbody tr th:only-of-type {\n",
       "        vertical-align: middle;\n",
       "    }\n",
       "\n",
       "    .dataframe tbody tr th {\n",
       "        vertical-align: top;\n",
       "    }\n",
       "\n",
       "    .dataframe thead th {\n",
       "        text-align: right;\n",
       "    }\n",
       "</style>\n",
       "<table border=\"1\" class=\"dataframe\">\n",
       "  <thead>\n",
       "    <tr style=\"text-align: right;\">\n",
       "      <th></th>\n",
       "      <th>date</th>\n",
       "      <th>Sales</th>\n",
       "    </tr>\n",
       "  </thead>\n",
       "  <tbody>\n",
       "    <tr>\n",
       "      <th>0</th>\n",
       "      <td>10/1/2012</td>\n",
       "      <td>Yellow</td>\n",
       "    </tr>\n",
       "    <tr>\n",
       "      <th>1</th>\n",
       "      <td>10/2/2012</td>\n",
       "      <td>Yellow</td>\n",
       "    </tr>\n",
       "    <tr>\n",
       "      <th>2</th>\n",
       "      <td>10/3/2012</td>\n",
       "      <td>Red</td>\n",
       "    </tr>\n",
       "    <tr>\n",
       "      <th>3</th>\n",
       "      <td>10/4/2012</td>\n",
       "      <td>Green</td>\n",
       "    </tr>\n",
       "    <tr>\n",
       "      <th>4</th>\n",
       "      <td>10/5/2012</td>\n",
       "      <td>Yellow</td>\n",
       "    </tr>\n",
       "    <tr>\n",
       "      <th>...</th>\n",
       "      <td>...</td>\n",
       "      <td>...</td>\n",
       "    </tr>\n",
       "    <tr>\n",
       "      <th>494</th>\n",
       "      <td>2/7/2014</td>\n",
       "      <td>Yellow</td>\n",
       "    </tr>\n",
       "    <tr>\n",
       "      <th>495</th>\n",
       "      <td>2/8/2014</td>\n",
       "      <td>Green</td>\n",
       "    </tr>\n",
       "    <tr>\n",
       "      <th>496</th>\n",
       "      <td>2/9/2014</td>\n",
       "      <td>Yellow</td>\n",
       "    </tr>\n",
       "    <tr>\n",
       "      <th>497</th>\n",
       "      <td>2/10/2014</td>\n",
       "      <td>Yellow</td>\n",
       "    </tr>\n",
       "    <tr>\n",
       "      <th>498</th>\n",
       "      <td>2/11/2014</td>\n",
       "      <td>Red</td>\n",
       "    </tr>\n",
       "  </tbody>\n",
       "</table>\n",
       "<p>499 rows × 2 columns</p>\n",
       "</div>"
      ],
      "text/plain": [
       "          date   Sales\n",
       "0    10/1/2012  Yellow\n",
       "1    10/2/2012  Yellow\n",
       "2    10/3/2012     Red\n",
       "3    10/4/2012   Green\n",
       "4    10/5/2012  Yellow\n",
       "..         ...     ...\n",
       "494   2/7/2014  Yellow\n",
       "495   2/8/2014   Green\n",
       "496   2/9/2014  Yellow\n",
       "497  2/10/2014  Yellow\n",
       "498  2/11/2014     Red\n",
       "\n",
       "[499 rows x 2 columns]"
      ]
     },
     "execution_count": 12,
     "metadata": {},
     "output_type": "execute_result"
    }
   ],
   "source": [
    "df1"
   ]
  },
  {
   "cell_type": "code",
   "execution_count": 13,
   "metadata": {},
   "outputs": [
    {
     "data": {
      "text/html": [
       "<div>\n",
       "<style scoped>\n",
       "    .dataframe tbody tr th:only-of-type {\n",
       "        vertical-align: middle;\n",
       "    }\n",
       "\n",
       "    .dataframe tbody tr th {\n",
       "        vertical-align: top;\n",
       "    }\n",
       "\n",
       "    .dataframe thead th {\n",
       "        text-align: right;\n",
       "    }\n",
       "</style>\n",
       "<table border=\"1\" class=\"dataframe\">\n",
       "  <thead>\n",
       "    <tr style=\"text-align: right;\">\n",
       "      <th></th>\n",
       "      <th>date</th>\n",
       "      <th>Revenue</th>\n",
       "    </tr>\n",
       "  </thead>\n",
       "  <tbody>\n",
       "    <tr>\n",
       "      <th>0</th>\n",
       "      <td>2012-10-01</td>\n",
       "      <td>2.9765444602038786</td>\n",
       "    </tr>\n",
       "    <tr>\n",
       "      <th>1</th>\n",
       "      <td>2012-10-01</td>\n",
       "      <td>2.9765444602038786</td>\n",
       "    </tr>\n",
       "    <tr>\n",
       "      <th>2</th>\n",
       "      <td>2012-10-02</td>\n",
       "      <td>2.490528631540708</td>\n",
       "    </tr>\n",
       "    <tr>\n",
       "      <th>3</th>\n",
       "      <td>2012-10-03</td>\n",
       "      <td>-4.064460105354397</td>\n",
       "    </tr>\n",
       "    <tr>\n",
       "      <th>4</th>\n",
       "      <td>2012-10-04</td>\n",
       "      <td>19.713553974145924</td>\n",
       "    </tr>\n",
       "    <tr>\n",
       "      <th>...</th>\n",
       "      <td>...</td>\n",
       "      <td>...</td>\n",
       "    </tr>\n",
       "    <tr>\n",
       "      <th>496</th>\n",
       "      <td>2014-02-08</td>\n",
       "      <td>21.04600124709907</td>\n",
       "    </tr>\n",
       "    <tr>\n",
       "      <th>497</th>\n",
       "      <td>2014-02-09</td>\n",
       "      <td>1.1231042207516877</td>\n",
       "    </tr>\n",
       "    <tr>\n",
       "      <th>498</th>\n",
       "      <td>2014-02-10</td>\n",
       "      <td>2.653838663706322</td>\n",
       "    </tr>\n",
       "    <tr>\n",
       "      <th>499</th>\n",
       "      <td>2014-02-11</td>\n",
       "      <td>-6.5977862399510165</td>\n",
       "    </tr>\n",
       "    <tr>\n",
       "      <th>500</th>\n",
       "      <td>2014-02-12</td>\n",
       "      <td>-5.4258098121947365</td>\n",
       "    </tr>\n",
       "  </tbody>\n",
       "</table>\n",
       "<p>501 rows × 2 columns</p>\n",
       "</div>"
      ],
      "text/plain": [
       "           date              Revenue\n",
       "0    2012-10-01   2.9765444602038786\n",
       "1    2012-10-01   2.9765444602038786\n",
       "2    2012-10-02    2.490528631540708\n",
       "3    2012-10-03   -4.064460105354397\n",
       "4    2012-10-04   19.713553974145924\n",
       "..          ...                  ...\n",
       "496  2014-02-08    21.04600124709907\n",
       "497  2014-02-09   1.1231042207516877\n",
       "498  2014-02-10    2.653838663706322\n",
       "499  2014-02-11  -6.5977862399510165\n",
       "500  2014-02-12  -5.4258098121947365\n",
       "\n",
       "[501 rows x 2 columns]"
      ]
     },
     "execution_count": 13,
     "metadata": {},
     "output_type": "execute_result"
    }
   ],
   "source": [
    "df2"
   ]
  },
  {
   "cell_type": "code",
   "execution_count": 14,
   "metadata": {},
   "outputs": [
    {
     "data": {
      "text/plain": [
       "date     0\n",
       "Sales    4\n",
       "dtype: int64"
      ]
     },
     "execution_count": 14,
     "metadata": {},
     "output_type": "execute_result"
    }
   ],
   "source": [
    "df1.isnull().sum()"
   ]
  },
  {
   "cell_type": "code",
   "execution_count": 15,
   "metadata": {},
   "outputs": [
    {
     "data": {
      "text/plain": [
       "date       0\n",
       "Revenue    0\n",
       "dtype: int64"
      ]
     },
     "execution_count": 15,
     "metadata": {},
     "output_type": "execute_result"
    }
   ],
   "source": [
    "df2.isnull().sum()"
   ]
  },
  {
   "cell_type": "code",
   "execution_count": 16,
   "metadata": {},
   "outputs": [
    {
     "data": {
      "text/html": [
       "<div>\n",
       "<style scoped>\n",
       "    .dataframe tbody tr th:only-of-type {\n",
       "        vertical-align: middle;\n",
       "    }\n",
       "\n",
       "    .dataframe tbody tr th {\n",
       "        vertical-align: top;\n",
       "    }\n",
       "\n",
       "    .dataframe thead th {\n",
       "        text-align: right;\n",
       "    }\n",
       "</style>\n",
       "<table border=\"1\" class=\"dataframe\">\n",
       "  <thead>\n",
       "    <tr style=\"text-align: right;\">\n",
       "      <th></th>\n",
       "      <th>date</th>\n",
       "      <th>Sales</th>\n",
       "    </tr>\n",
       "  </thead>\n",
       "  <tbody>\n",
       "    <tr>\n",
       "      <th>count</th>\n",
       "      <td>499</td>\n",
       "      <td>495</td>\n",
       "    </tr>\n",
       "    <tr>\n",
       "      <th>unique</th>\n",
       "      <td>499</td>\n",
       "      <td>4</td>\n",
       "    </tr>\n",
       "    <tr>\n",
       "      <th>top</th>\n",
       "      <td>9/8/2013</td>\n",
       "      <td>Red</td>\n",
       "    </tr>\n",
       "    <tr>\n",
       "      <th>freq</th>\n",
       "      <td>1</td>\n",
       "      <td>169</td>\n",
       "    </tr>\n",
       "  </tbody>\n",
       "</table>\n",
       "</div>"
      ],
      "text/plain": [
       "            date Sales\n",
       "count        499   495\n",
       "unique       499     4\n",
       "top     9/8/2013   Red\n",
       "freq           1   169"
      ]
     },
     "execution_count": 16,
     "metadata": {},
     "output_type": "execute_result"
    }
   ],
   "source": [
    "df1.describe()"
   ]
  },
  {
   "cell_type": "code",
   "execution_count": 17,
   "metadata": {},
   "outputs": [
    {
     "data": {
      "text/html": [
       "<div>\n",
       "<style scoped>\n",
       "    .dataframe tbody tr th:only-of-type {\n",
       "        vertical-align: middle;\n",
       "    }\n",
       "\n",
       "    .dataframe tbody tr th {\n",
       "        vertical-align: top;\n",
       "    }\n",
       "\n",
       "    .dataframe thead th {\n",
       "        text-align: right;\n",
       "    }\n",
       "</style>\n",
       "<table border=\"1\" class=\"dataframe\">\n",
       "  <thead>\n",
       "    <tr style=\"text-align: right;\">\n",
       "      <th></th>\n",
       "      <th>date</th>\n",
       "      <th>Revenue</th>\n",
       "    </tr>\n",
       "  </thead>\n",
       "  <tbody>\n",
       "    <tr>\n",
       "      <th>count</th>\n",
       "      <td>501</td>\n",
       "      <td>501</td>\n",
       "    </tr>\n",
       "    <tr>\n",
       "      <th>unique</th>\n",
       "      <td>500</td>\n",
       "      <td>500</td>\n",
       "    </tr>\n",
       "    <tr>\n",
       "      <th>top</th>\n",
       "      <td>2012-10-01</td>\n",
       "      <td>2.9765444602038786</td>\n",
       "    </tr>\n",
       "    <tr>\n",
       "      <th>freq</th>\n",
       "      <td>2</td>\n",
       "      <td>2</td>\n",
       "    </tr>\n",
       "  </tbody>\n",
       "</table>\n",
       "</div>"
      ],
      "text/plain": [
       "              date             Revenue\n",
       "count          501                 501\n",
       "unique         500                 500\n",
       "top     2012-10-01  2.9765444602038786\n",
       "freq             2                   2"
      ]
     },
     "execution_count": 17,
     "metadata": {},
     "output_type": "execute_result"
    }
   ],
   "source": [
    "df2.describe()"
   ]
  },
  {
   "cell_type": "code",
   "execution_count": 18,
   "metadata": {},
   "outputs": [
    {
     "data": {
      "text/plain": [
       "date     object\n",
       "Sales    object\n",
       "dtype: object"
      ]
     },
     "execution_count": 18,
     "metadata": {},
     "output_type": "execute_result"
    }
   ],
   "source": [
    "df1.dtypes "
   ]
  },
  {
   "cell_type": "code",
   "execution_count": 20,
   "metadata": {},
   "outputs": [
    {
     "data": {
      "text/plain": [
       "date       object\n",
       "Revenue    object\n",
       "dtype: object"
      ]
     },
     "execution_count": 20,
     "metadata": {},
     "output_type": "execute_result"
    }
   ],
   "source": [
    "df2.dtypes "
   ]
  },
  {
   "cell_type": "code",
   "execution_count": 21,
   "metadata": {},
   "outputs": [
    {
     "data": {
      "text/plain": [
       "0    10/1/2012\n",
       "1    10/2/2012\n",
       "2    10/3/2012\n",
       "3    10/4/2012\n",
       "4    10/5/2012\n",
       "Name: date, dtype: object"
      ]
     },
     "execution_count": 21,
     "metadata": {},
     "output_type": "execute_result"
    }
   ],
   "source": [
    "df1['date'].head()    "
   ]
  },
  {
   "cell_type": "code",
   "execution_count": 22,
   "metadata": {},
   "outputs": [
    {
     "data": {
      "text/plain": [
       "0    2012-10-01\n",
       "1    2012-10-01\n",
       "2    2012-10-02\n",
       "3    2012-10-03\n",
       "4    2012-10-04\n",
       "Name: date, dtype: object"
      ]
     },
     "execution_count": 22,
     "metadata": {},
     "output_type": "execute_result"
    }
   ],
   "source": [
    "df2['date'].head()"
   ]
  },
  {
   "cell_type": "code",
   "execution_count": 24,
   "metadata": {},
   "outputs": [],
   "source": [
    "df1['date'] = pd.to_datetime(df1['date'])  "
   ]
  },
  {
   "cell_type": "code",
   "execution_count": 25,
   "metadata": {},
   "outputs": [],
   "source": [
    "df2['date'] = pd.to_datetime(df2['date'])  "
   ]
  },
  {
   "cell_type": "code",
   "execution_count": 26,
   "metadata": {},
   "outputs": [
    {
     "data": {
      "text/plain": [
       "0   2012-10-01\n",
       "1   2012-10-02\n",
       "2   2012-10-03\n",
       "3   2012-10-04\n",
       "4   2012-10-05\n",
       "Name: date, dtype: datetime64[ns]"
      ]
     },
     "execution_count": 26,
     "metadata": {},
     "output_type": "execute_result"
    }
   ],
   "source": [
    "df1['date'].head()   "
   ]
  },
  {
   "cell_type": "code",
   "execution_count": 27,
   "metadata": {},
   "outputs": [
    {
     "data": {
      "text/plain": [
       "0   2012-10-01\n",
       "1   2012-10-01\n",
       "2   2012-10-02\n",
       "3   2012-10-03\n",
       "4   2012-10-04\n",
       "Name: date, dtype: datetime64[ns]"
      ]
     },
     "execution_count": 27,
     "metadata": {},
     "output_type": "execute_result"
    }
   ],
   "source": [
    "df2['date'].head()"
   ]
  },
  {
   "cell_type": "code",
   "execution_count": 28,
   "metadata": {},
   "outputs": [
    {
     "data": {
      "text/plain": [
       "Timestamp('2012-10-01 00:00:00')"
      ]
     },
     "execution_count": 28,
     "metadata": {},
     "output_type": "execute_result"
    }
   ],
   "source": [
    "df1['date'].min()"
   ]
  },
  {
   "cell_type": "code",
   "execution_count": 29,
   "metadata": {},
   "outputs": [
    {
     "data": {
      "text/plain": [
       "Timestamp('2014-02-11 00:00:00')"
      ]
     },
     "execution_count": 29,
     "metadata": {},
     "output_type": "execute_result"
    }
   ],
   "source": [
    "df1['date'].max()"
   ]
  },
  {
   "cell_type": "code",
   "execution_count": 30,
   "metadata": {},
   "outputs": [
    {
     "data": {
      "text/plain": [
       "Timestamp('2010-10-10 00:00:00')"
      ]
     },
     "execution_count": 30,
     "metadata": {},
     "output_type": "execute_result"
    }
   ],
   "source": [
    "df2['date'].min()"
   ]
  },
  {
   "cell_type": "code",
   "execution_count": 31,
   "metadata": {},
   "outputs": [
    {
     "data": {
      "text/plain": [
       "Timestamp('2019-02-01 00:00:00')"
      ]
     },
     "execution_count": 31,
     "metadata": {},
     "output_type": "execute_result"
    }
   ],
   "source": [
    "df2['date'].max()"
   ]
  },
  {
   "cell_type": "code",
   "execution_count": 32,
   "metadata": {},
   "outputs": [
    {
     "data": {
      "text/html": [
       "<div>\n",
       "<style scoped>\n",
       "    .dataframe tbody tr th:only-of-type {\n",
       "        vertical-align: middle;\n",
       "    }\n",
       "\n",
       "    .dataframe tbody tr th {\n",
       "        vertical-align: top;\n",
       "    }\n",
       "\n",
       "    .dataframe thead th {\n",
       "        text-align: right;\n",
       "    }\n",
       "</style>\n",
       "<table border=\"1\" class=\"dataframe\">\n",
       "  <thead>\n",
       "    <tr style=\"text-align: right;\">\n",
       "      <th></th>\n",
       "      <th>date</th>\n",
       "      <th>Sales</th>\n",
       "    </tr>\n",
       "  </thead>\n",
       "  <tbody>\n",
       "    <tr>\n",
       "      <th>0</th>\n",
       "      <td>2012-10-01</td>\n",
       "      <td>Yellow</td>\n",
       "    </tr>\n",
       "    <tr>\n",
       "      <th>1</th>\n",
       "      <td>2012-10-02</td>\n",
       "      <td>Yellow</td>\n",
       "    </tr>\n",
       "    <tr>\n",
       "      <th>2</th>\n",
       "      <td>2012-10-03</td>\n",
       "      <td>Red</td>\n",
       "    </tr>\n",
       "    <tr>\n",
       "      <th>3</th>\n",
       "      <td>2012-10-04</td>\n",
       "      <td>Green</td>\n",
       "    </tr>\n",
       "    <tr>\n",
       "      <th>4</th>\n",
       "      <td>2012-10-05</td>\n",
       "      <td>Yellow</td>\n",
       "    </tr>\n",
       "    <tr>\n",
       "      <th>...</th>\n",
       "      <td>...</td>\n",
       "      <td>...</td>\n",
       "    </tr>\n",
       "    <tr>\n",
       "      <th>494</th>\n",
       "      <td>2014-02-07</td>\n",
       "      <td>Yellow</td>\n",
       "    </tr>\n",
       "    <tr>\n",
       "      <th>495</th>\n",
       "      <td>2014-02-08</td>\n",
       "      <td>Green</td>\n",
       "    </tr>\n",
       "    <tr>\n",
       "      <th>496</th>\n",
       "      <td>2014-02-09</td>\n",
       "      <td>Yellow</td>\n",
       "    </tr>\n",
       "    <tr>\n",
       "      <th>497</th>\n",
       "      <td>2014-02-10</td>\n",
       "      <td>Yellow</td>\n",
       "    </tr>\n",
       "    <tr>\n",
       "      <th>498</th>\n",
       "      <td>2014-02-11</td>\n",
       "      <td>Red</td>\n",
       "    </tr>\n",
       "  </tbody>\n",
       "</table>\n",
       "<p>499 rows × 2 columns</p>\n",
       "</div>"
      ],
      "text/plain": [
       "          date   Sales\n",
       "0   2012-10-01  Yellow\n",
       "1   2012-10-02  Yellow\n",
       "2   2012-10-03     Red\n",
       "3   2012-10-04   Green\n",
       "4   2012-10-05  Yellow\n",
       "..         ...     ...\n",
       "494 2014-02-07  Yellow\n",
       "495 2014-02-08   Green\n",
       "496 2014-02-09  Yellow\n",
       "497 2014-02-10  Yellow\n",
       "498 2014-02-11     Red\n",
       "\n",
       "[499 rows x 2 columns]"
      ]
     },
     "execution_count": 32,
     "metadata": {},
     "output_type": "execute_result"
    }
   ],
   "source": [
    "df1"
   ]
  },
  {
   "cell_type": "code",
   "execution_count": 33,
   "metadata": {},
   "outputs": [
    {
     "data": {
      "text/html": [
       "<div>\n",
       "<style scoped>\n",
       "    .dataframe tbody tr th:only-of-type {\n",
       "        vertical-align: middle;\n",
       "    }\n",
       "\n",
       "    .dataframe tbody tr th {\n",
       "        vertical-align: top;\n",
       "    }\n",
       "\n",
       "    .dataframe thead th {\n",
       "        text-align: right;\n",
       "    }\n",
       "</style>\n",
       "<table border=\"1\" class=\"dataframe\">\n",
       "  <thead>\n",
       "    <tr style=\"text-align: right;\">\n",
       "      <th></th>\n",
       "      <th>date</th>\n",
       "      <th>Revenue</th>\n",
       "    </tr>\n",
       "  </thead>\n",
       "  <tbody>\n",
       "    <tr>\n",
       "      <th>0</th>\n",
       "      <td>2012-10-01</td>\n",
       "      <td>2.9765444602038786</td>\n",
       "    </tr>\n",
       "    <tr>\n",
       "      <th>1</th>\n",
       "      <td>2012-10-01</td>\n",
       "      <td>2.9765444602038786</td>\n",
       "    </tr>\n",
       "    <tr>\n",
       "      <th>2</th>\n",
       "      <td>2012-10-02</td>\n",
       "      <td>2.490528631540708</td>\n",
       "    </tr>\n",
       "    <tr>\n",
       "      <th>3</th>\n",
       "      <td>2012-10-03</td>\n",
       "      <td>-4.064460105354397</td>\n",
       "    </tr>\n",
       "    <tr>\n",
       "      <th>4</th>\n",
       "      <td>2012-10-04</td>\n",
       "      <td>19.713553974145924</td>\n",
       "    </tr>\n",
       "    <tr>\n",
       "      <th>...</th>\n",
       "      <td>...</td>\n",
       "      <td>...</td>\n",
       "    </tr>\n",
       "    <tr>\n",
       "      <th>496</th>\n",
       "      <td>2014-02-08</td>\n",
       "      <td>21.04600124709907</td>\n",
       "    </tr>\n",
       "    <tr>\n",
       "      <th>497</th>\n",
       "      <td>2014-02-09</td>\n",
       "      <td>1.1231042207516877</td>\n",
       "    </tr>\n",
       "    <tr>\n",
       "      <th>498</th>\n",
       "      <td>2014-02-10</td>\n",
       "      <td>2.653838663706322</td>\n",
       "    </tr>\n",
       "    <tr>\n",
       "      <th>499</th>\n",
       "      <td>2014-02-11</td>\n",
       "      <td>-6.5977862399510165</td>\n",
       "    </tr>\n",
       "    <tr>\n",
       "      <th>500</th>\n",
       "      <td>2014-02-12</td>\n",
       "      <td>-5.4258098121947365</td>\n",
       "    </tr>\n",
       "  </tbody>\n",
       "</table>\n",
       "<p>501 rows × 2 columns</p>\n",
       "</div>"
      ],
      "text/plain": [
       "          date              Revenue\n",
       "0   2012-10-01   2.9765444602038786\n",
       "1   2012-10-01   2.9765444602038786\n",
       "2   2012-10-02    2.490528631540708\n",
       "3   2012-10-03   -4.064460105354397\n",
       "4   2012-10-04   19.713553974145924\n",
       "..         ...                  ...\n",
       "496 2014-02-08    21.04600124709907\n",
       "497 2014-02-09   1.1231042207516877\n",
       "498 2014-02-10    2.653838663706322\n",
       "499 2014-02-11  -6.5977862399510165\n",
       "500 2014-02-12  -5.4258098121947365\n",
       "\n",
       "[501 rows x 2 columns]"
      ]
     },
     "execution_count": 33,
     "metadata": {},
     "output_type": "execute_result"
    }
   ],
   "source": [
    "df2"
   ]
  },
  {
   "cell_type": "code",
   "execution_count": 34,
   "metadata": {},
   "outputs": [],
   "source": [
    "df1.to_csv('data1.csv')"
   ]
  },
  {
   "cell_type": "code",
   "execution_count": 35,
   "metadata": {},
   "outputs": [],
   "source": [
    "df2.to_csv('data2.csv')"
   ]
  },
  {
   "cell_type": "code",
   "execution_count": 36,
   "metadata": {},
   "outputs": [
    {
     "data": {
      "text/plain": [
       "array(['Yellow', 'Red', 'Green', 'fhhedk', nan], dtype=object)"
      ]
     },
     "execution_count": 36,
     "metadata": {},
     "output_type": "execute_result"
    }
   ],
   "source": [
    "df1['Sales'].unique()"
   ]
  },
  {
   "cell_type": "code",
   "execution_count": 38,
   "metadata": {},
   "outputs": [
    {
     "data": {
      "text/plain": [
       "array(['2.9765444602038786', '2.490528631540708', '-4.064460105354397',\n",
       "       '19.713553974145924', '2.09428322407184', '20.49456342345604',\n",
       "       '20.983347817536632', '-5.353292114198846', '1.5926064405924067',\n",
       "       '2.8192968215601466', '-6.153478321812958', '2.390123092679006',\n",
       "       '2.9603444078067827', '2.304967983596238', '18.822305267650403',\n",
       "       '19.149575470420473', '19.842619118957096', '-5.286947081479289',\n",
       "       '1.9486870117819022', '2.1468264282531844', '18.96200840164975',\n",
       "       '19.592330777702184', '0.5963319782644965', '0.8613695750497645',\n",
       "       '1.671115926159823', '18.30543925224195', '3.117420149260051',\n",
       "       '21.131843721674514', '-3.695915597218592', '19.68741481424989',\n",
       "       '20.47036762603409', '-6.3890178775110895', '-6.506008259566959',\n",
       "       '1.8256975106311017', '21.745901329842386', '19.6743833728594',\n",
       "       '21.63665720879095', '-5.828294137471492', '1.6222493485212528',\n",
       "       '-5.166712920218172', '20.318411813635745', '-3.8180390631198353',\n",
       "       '-4.55720329950653', '2.061552279940227', '-5.4139496708565975',\n",
       "       '2.5686840275596605', '0.1677835698286232', '1.983945147657838',\n",
       "       '-5.442247598081865', '-6.539022389277017', '3.911033939760985',\n",
       "       '-4.868421341056394', '-6.105446409163816', '-4.186223326779799',\n",
       "       '-3.464474581876711', '20.544325146038915', '-4.731305451991968',\n",
       "       '-5.293808777692568', '-6.407451454403525', '-3.6923848268449437',\n",
       "       '20.98552523316606', '1.1678301059517493', '2.82800707728574',\n",
       "       '0.6723689530430879', '3.256591108076174', '20.42377810405755',\n",
       "       '20.67288527709044', '-5.323468911353197', '-5.082552239878043',\n",
       "       '4.192689718940368', '0.9716660664749432', '2.445376517161974',\n",
       "       '-4.614511957682096', '22.32673019854841', '20.531387681603377',\n",
       "       '-5.801060204441716', '0.8616954520939795', '21.009215598412464',\n",
       "       '0.1414540543745495', '20.273657114777635', '-5.566050924917366',\n",
       "       '1.9933202640006848', '17.057526008769774', '-4.767667524907305',\n",
       "       '3.539968189997409', '-3.663777536813539', '-5.7977204008879895',\n",
       "       '-5.284629280991879', '0.9440689359061445', '-4.4963516972667446',\n",
       "       '3.692628551284411', '-5.41430784185824', '20.14644976418425',\n",
       "       '-5.846412282084933', '20.863370972104573', '1.870386692685817',\n",
       "       '2.393185375532923', '20.74621435423048', '2.1020033141045094',\n",
       "       '19.185756027343526', '19.576393527534048', '-6.220961695564919',\n",
       "       '19.7473661390437', '4.44254685002225', '-4.289154227686002',\n",
       "       '0.9119732528848565', '-4.390881396695003', '-6.0817491198694835',\n",
       "       '19.87278398068643', '2.5050578407529445', '0.07093057695584593',\n",
       "       '-5.028807032755001', '-6.211558002848534', '18.775912919721424',\n",
       "       '-5.875713446400126', '18.771509027412563', '20.750585102009797',\n",
       "       '1.6670074207968826', '0.5655267651688265', '20.045790472262368',\n",
       "       '-4.752000895989193', '-5.189222227818145', '20.67480227792899',\n",
       "       '20.469461776144424', '4.111378410741605', '18.99612930350279',\n",
       "       '-4.1670467688214075', '20.70797325838887', '-5.738009390938734',\n",
       "       '2.998528131242901', '-3.999188935667388', '19.693067595836876',\n",
       "       '-5.079323824206239', '1.370514612853687', '200.43174544314675',\n",
       "       '0.7528607589261318', '0.14176907942493067', '-4.253428995194884',\n",
       "       '19.985118469992543', '1.4313361756350638', '-5.593279019855028',\n",
       "       '-4.320671416997854', '-4.616803439271867', '19.489435754870666',\n",
       "       '19.999139410736653', '-4.736628847849535', '-5.703228320152485',\n",
       "       '22.066895289334937', '21.326387664572756', '1.6158448468844568',\n",
       "       '-5.1915053980896255', '2.022920925151275', '22.50030924740851',\n",
       "       '-5.10561688143969', '2.5462922487404827', '1.4892751184911697',\n",
       "       '2.974771492492348', '-4.995581943219761', '2.1324114586511973',\n",
       "       '1.7469102395372382', '3.913815217637513', '0.5613383233486775',\n",
       "       '3.591619830972472', '20.32018776595032', '-4.006664661236001',\n",
       "       '-5.734955665136647', '3.231975160874152', '-4.591631213381013',\n",
       "       '4.171885736294758', '20.64908337643017', '-5.727592332111378',\n",
       "       '-6.459217639636655', '2.8935016159587628', '-4.481890084794004',\n",
       "       '-4.3695956882466245', '20.066710083586898', '21.314585913010717',\n",
       "       '20.148999364489825', '-6.440652625584958', '-5.299950679079808',\n",
       "       '20.972130451926112', '0.95892724437316', '3.133857229771576',\n",
       "       '2.126549991708801', '0.8848610875435574', '0.384726639962661',\n",
       "       '21.52172833051099', '20.22523744787839', '19.875435933985386',\n",
       "       '20.241517139618693', '20.392561341664454', '19.847173203374656',\n",
       "       '18.782441427399412', '20.47033561303033', '0.5562117545441334',\n",
       "       '-3.538684473536801', '-3.0782349185068663', '1.751956313349298',\n",
       "       '20.25837744439432', '4.840047834463505', '21.384219759232725',\n",
       "       '20.14388502641465', '3.5343193369350607', '2.273093152699989',\n",
       "       '20.882955083518738', '-4.206211738857161', '1.5593145055898068',\n",
       "       '-5.339686076850144', '-60.2344682971949545', '18.636651350906885',\n",
       "       '2.8242920264884575', '1.3403840428857712', '-4.76626836778234',\n",
       "       '-4.286546519567626', '20.128885424122632', '-0.23186655490355434',\n",
       "       '18.6699229765814', '20.07950236666897', '2.8856994390446795',\n",
       "       '-4.285539763382131', '19.926730608337486', '20.41940355143793',\n",
       "       '3.7310151610639544', '1.5566663037861024', '1.7480733512602764',\n",
       "       '19.668803509232728', '19.580822036768605', '-5.669242311146995',\n",
       "       '17.594021262833934', '19.16511128787572', '20.25080025997136',\n",
       "       '2.608498435556551', '-5.332613581741212', '-5.70681629373135',\n",
       "       '1.4787651170514113', '21.636494117106963', '-4.833786822415123',\n",
       "       '0.7810476805829272', '19.697246662139168', '-5.606198011249145',\n",
       "       '19.693670134404663', '19.16098258877876', '-2.7774827258257893',\n",
       "       '19.223596156349572', '3.6934497619801867', '19.284940437456143',\n",
       "       '19.20865145142181', '2.0912858046659952', '-5.501540531535801',\n",
       "       '2.478178934217844', '0.8637164049482096', '-4.41767659372484',\n",
       "       '1.403159238532846', '18.95310095034438', '1.579559126285075',\n",
       "       '18.76622820498258', '20.523450316242062', '2.8052350022211954',\n",
       "       '-5.289760490673849', '-4.874690053106151', '21.690139156916498',\n",
       "       '-4.247515732946781', '21.045367142357378', '20.832269502343294',\n",
       "       '-5.345256394585716', '-4.937502311077318', '21.483077589587086',\n",
       "       '0.6812959645251944', '2.55651283288128', '1.2296449957766313',\n",
       "       '20.50625062316605', '20.961596291158862', '19.512746194442478',\n",
       "       '20.41627381232004', '3.077984039665966', '20.37129741342433',\n",
       "       '20.145693682053132', '-5.717707945283511', '1.7177229741643534',\n",
       "       '20.36601260234399', '1.6364134872646419', '-4.9859328862438765',\n",
       "       '-4.6776542009658915', '1.709640892270537', '2.3781778428950067',\n",
       "       '2.6680685235530923', '0.6481562229823943', '-5.061518630646419',\n",
       "       '2.1983238482993768', '20.27544908689919', '-6.022334058194475',\n",
       "       '-4.006379281262748', '3.562017132895617', '19.337106582144227',\n",
       "       '-5.631036915774231', '-4.17897536186874', '3.3722637626254426',\n",
       "       '-5.983765727520069', '1.500122307586917', '-5.243413687114096',\n",
       "       '1.639895185777703', '-4.008504564219301', '20.822987345920655',\n",
       "       '-4.698571107070978', '17.55222247271798', '1.1768186481858354',\n",
       "       '20.906159596041515', '-5.418085004902306', '0.03920047701523166',\n",
       "       '2.5306843105202237', '0.7528084424840573', '-0.5668618771900782',\n",
       "       '19.16185186516505', '-4.117559817183484', '3.220321372378529',\n",
       "       '-4.035043039831621', '3.033503376331446', '-5.3432378998406165',\n",
       "       '2.1340851131656904', '-3.3597505629395226', '3.3388940305332655',\n",
       "       '-4.455204037261533', '-4.994015720635144', '-4.961829493640547',\n",
       "       '-5.741893466612831', '-4.602634267547471', '20.76442166828252',\n",
       "       '0.48423121087224197', '-4.7069474193587535', '2.7060762624936165',\n",
       "       '-5.820176994988181', '-5.458966901910992', '21.073706622935212',\n",
       "       '-3.0925228129216817', '1.5409518393183428', '2.4302333171148467',\n",
       "       '20.544160216797785', '18.139850817088085', '19.552130002188065',\n",
       "       '20.336298627570024', '-6.457646590126436', '2.767203193058682',\n",
       "       '-4.7385160544020675', '19.23109814198348', '1.834841592816102',\n",
       "       '2.811837633889221', '21.916486214816455', '-5.697311914850766',\n",
       "       '19.714168593180883', '2.6140386259573676', '-5.1824332406822835',\n",
       "       '1.7232941644105892', '22.419136465658994', '20.128627571504126',\n",
       "       '18.65973886296715', '18.883578694420397', '-7.051372396900617',\n",
       "       '21.932411008555622', '1.8430483129679063', '-2.5046766060871692',\n",
       "       '-3.2176729301236553', '-5.88300731824936', '-7.035237759739102',\n",
       "       '21.086197742122827', '0.8997390165868624', '1.4232963749113083',\n",
       "       '18.565025533251603', '3.1471926701885176', '1.3262679260959689',\n",
       "       '-6.710649823085375', '-4.948746556845822', '19.724813441790968',\n",
       "       '-6.650204673946925', '-4.466782726924991', '-3.9322861684936985',\n",
       "       '-5.540683293779609', '19.469930600768325', '-6.543595116076737',\n",
       "       '20.44123082113889', '2.2245559771565224', '0.9207145683012701',\n",
       "       '20.430517506725536', '19.57815781093155', '20.65223968655407',\n",
       "       '-5.605172362485261', '1.2993826922357499', '-3.904218876213908',\n",
       "       '3.3257262495703594', '0.634064321634866', '-5.165638096161828',\n",
       "       '-3.5339363022033794', '2.2476158880299817', '2.235421353537804',\n",
       "       '19.382826891329746', '-4.1315810071079095', '-7.302868723929761',\n",
       "       '1.8253859812961932', '-5.192405518408229', '-5.2694857134411',\n",
       "       '19.33465870669813', '@#$%%#@$$', '-5.9741966160198565',\n",
       "       '20.911323030426992', '1.8248247348653082', '21.790749302485896',\n",
       "       '18.67129742787429', '20.142635896208816', '-5.001976723827023',\n",
       "       '0.8045321892532813', '20.860831846951022', '2.4510292846854753',\n",
       "       '-5.697250863222547', '3.1231713638951852', '19.12943410684264',\n",
       "       '2.20460468865576', '-4.918836373535342', '19.539174143715417',\n",
       "       '-5.301174473571488', '-4.631352857496368', '2.507194535240595',\n",
       "       '-5.746975058904158', '-5.168186530697106', '1.5028282022671375',\n",
       "       '21.009310596776423', '0.3688610809151609', '2.3068515707029182',\n",
       "       '21.337469894741503', '-5.810371596443534', '-5.1843531515350385',\n",
       "       '-6.681179462751815', '-5.792350003473217', '-5.664605355151114',\n",
       "       '19.32984807100291', '18.754078465279804', '19.426760504901978',\n",
       "       '1.9845964425800315', '1.2353224095074617', '-4.083494530164161',\n",
       "       '20.989779428146733', '-4.429289950341444', '20.10465856103779',\n",
       "       '3.1916817018554218', '1.2474135450672077', '2.717047478209265',\n",
       "       '-3.4463286065019707', '3.6450246131544874', '-5.754938434467465',\n",
       "       '2.0371998455323648', '-2.85851612589344', '2.3568527375840636',\n",
       "       '19.962617088806045', '-5.256379520865979', '20.591867956843714',\n",
       "       '20.347328870369985', '1.8867732607297198', '19.340186616267502',\n",
       "       '1.0314284089218724', '19.15484579002011', '21.054179661619415',\n",
       "       '2.101372257941228', '20.55896095179034', '2.5939836531664087',\n",
       "       '0.160724402559127', '-4.46900970980429', '-5.841673689426306',\n",
       "       '19.095216318071166', '-5.429745724634712', '19.76207255795148',\n",
       "       '-5.4254747944132555', '20.436730005431816', '-3.85825529784037',\n",
       "       '18.075043397638616', '18.42779243378069', '4.245761090016058',\n",
       "       '-5.474979326769771', '-5.875510701523922', '2.262050322162981',\n",
       "       '-3.1747173769827657', '-3.589340512399402', '-4.96914633180692',\n",
       "       '20.42744193907473', '2.5736438275866114', '20.387936770826624',\n",
       "       '-3.5146068025287445', '21.26851247835849', '-5.681118605725036',\n",
       "       '2.001193815562249', '3.4868496617085616', '18.674550198604052',\n",
       "       '-5.191911271566779', '-5.3757769986781625', '2.302007760851926',\n",
       "       '20.505045185905857', '2.0780513077821348', '2.5354326227573436',\n",
       "       '21.04600124709907', '1.1231042207516877', '2.653838663706322',\n",
       "       '-6.5977862399510165', '-5.4258098121947365'], dtype=object)"
      ]
     },
     "execution_count": 38,
     "metadata": {},
     "output_type": "execute_result"
    }
   ],
   "source": [
    "df2['Revenue'].unique()"
   ]
  },
  {
   "cell_type": "code",
   "execution_count": 46,
   "metadata": {},
   "outputs": [
    {
     "data": {
      "text/plain": [
       "0       2.9765444602038786\n",
       "1       2.9765444602038786\n",
       "2        2.490528631540708\n",
       "3       -4.064460105354397\n",
       "4       19.713553974145924\n",
       "              ...         \n",
       "496      21.04600124709907\n",
       "497     1.1231042207516877\n",
       "498      2.653838663706322\n",
       "499    -6.5977862399510165\n",
       "500    -5.4258098121947365\n",
       "Name: Revenue, Length: 501, dtype: object"
      ]
     },
     "execution_count": 46,
     "metadata": {},
     "output_type": "execute_result"
    }
   ],
   "source": [
    "df2['Revenue']"
   ]
  },
  {
   "cell_type": "code",
   "execution_count": 47,
   "metadata": {},
   "outputs": [
    {
     "data": {
      "text/plain": [
       "date       datetime64[ns]\n",
       "Revenue            object\n",
       "dtype: object"
      ]
     },
     "execution_count": 47,
     "metadata": {},
     "output_type": "execute_result"
    }
   ],
   "source": [
    "df2.dtypes"
   ]
  },
  {
   "cell_type": "code",
   "execution_count": 48,
   "metadata": {},
   "outputs": [
    {
     "data": {
      "text/plain": [
       "(array([14610., 14975., 15340., 15706., 16071., 16436., 16801., 17167.,\n",
       "        17532., 17897.]),\n",
       " [Text(0, 0, ''),\n",
       "  Text(0, 0, ''),\n",
       "  Text(0, 0, ''),\n",
       "  Text(0, 0, ''),\n",
       "  Text(0, 0, ''),\n",
       "  Text(0, 0, ''),\n",
       "  Text(0, 0, ''),\n",
       "  Text(0, 0, ''),\n",
       "  Text(0, 0, ''),\n",
       "  Text(0, 0, '')])"
      ]
     },
     "execution_count": 48,
     "metadata": {},
     "output_type": "execute_result"
    },
    {
     "data": {
      "image/png": "[encoded data removed]",
      "text/plain": [
       "<Figure size 432x288 with 1 Axes>"
      ]
     },
     "metadata": {
      "needs_background": "light"
     },
     "output_type": "display_data"
    }
   ],
   "source": [
    "df2 = df2.sort_values('date', ascending=True)\n",
    "plt.plot(df2['date'], df2['Revenue'])\n",
    "plt.xticks(rotation='vertical')"
   ]
  },
  {
   "cell_type": "code",
   "execution_count": 52,
   "metadata": {},
   "outputs": [
    {
     "data": {
      "text/plain": [
       "(array([14610., 14975., 15340., 15706., 16071., 16436., 16801., 17167.,\n",
       "        17532., 17897.]),\n",
       " [Text(0, 0, ''),\n",
       "  Text(0, 0, ''),\n",
       "  Text(0, 0, ''),\n",
       "  Text(0, 0, ''),\n",
       "  Text(0, 0, ''),\n",
       "  Text(0, 0, ''),\n",
       "  Text(0, 0, ''),\n",
       "  Text(0, 0, ''),\n",
       "  Text(0, 0, ''),\n",
       "  Text(0, 0, '')])"
      ]
     },
     "execution_count": 52,
     "metadata": {},
     "output_type": "execute_result"
    },
    {
     "data": {
      "image/png": "[encoded data removed]",
      "text/plain": [
       "<Figure size 1440x720 with 1 Axes>"
      ]
     },
     "metadata": {
      "needs_background": "light"
     },
     "output_type": "display_data"
    }
   ],
   "source": [
    "df2 = df2.sort_values('date', ascending=True)\n",
    "plt.figure(figsize=(20,10))\n",
    "plt.plot(df2['date'], df2['Revenue'],'*')\n",
    "plt.xticks(rotation='vertical')"
   ]
  },
  {
   "cell_type": "code",
   "execution_count": 53,
   "metadata": {},
   "outputs": [
    {
     "data": {
      "image/png": "[encoded data removed]",
      "text/plain": [
       "<Figure size 432x288 with 1 Axes>"
      ]
     },
     "metadata": {
      "needs_background": "light"
     },
     "output_type": "display_data"
    }
   ],
   "source": [
    "ax1 = df2.plot.scatter(x='date',\n",
    "                      y='Revenue',\n",
    "                      c='DarkBlue')"
   ]
  },
  {
   "cell_type": "code",
   "execution_count": null,
   "metadata": {},
   "outputs": [],
   "source": []
  }
 ],
 "metadata": {
  "kernelspec": {
   "display_name": "Python 3",
   "language": "python",
   "name": "python3"
  },
  "language_info": {
   "codemirror_mode": {
    "name": "ipython",
    "version": 3
   },
   "file_extension": ".py",
   "mimetype": "text/x-python",
   "name": "python",
   "nbconvert_exporter": "python",
   "pygments_lexer": "ipython3",
   "version": "3.8.5"
  }
 },
 "nbformat": 4,
 "nbformat_minor": 4
}
